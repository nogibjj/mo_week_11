{
 "cells": [
  {
   "cell_type": "markdown",
   "metadata": {
    "application/vnd.databricks.v1+cell": {
     "cellMetadata": {},
     "inputWidgets": {},
     "nuid": "677c4b59-3d8c-45f6-9442-19ba95824e82",
     "showTitle": false,
     "title": ""
    }
   },
   "source": [
    "Library Imports\n"
   ]
  },
  {
   "cell_type": "code",
   "execution_count": 0,
   "metadata": {
    "application/vnd.databricks.v1+cell": {
     "cellMetadata": {
      "byteLimit": 2048000,
      "rowLimit": 10000
     },
     "inputWidgets": {},
     "nuid": "ab71ffc9-5cdb-47a3-b3e6-289edeefc124",
     "showTitle": false,
     "title": ""
    }
   },
   "outputs": [],
   "source": [
    "import os\n",
    "from pyspark.sql import SparkSession\n",
    "from pyspark.sql.functions import col, to_date, dayofmonth, month, year\n",
    "from pyspark.sql.functions import date_format, to_timestamp  \n",
    "from pyspark.sql.window import Window\n",
    "from pyspark.sql import functions as F\n"
   ]
  },
  {
   "cell_type": "markdown",
   "metadata": {
    "application/vnd.databricks.v1+cell": {
     "cellMetadata": {},
     "inputWidgets": {},
     "nuid": "8aac68c5-b122-4ebd-aae6-873e1a561e95",
     "showTitle": false,
     "title": ""
    }
   },
   "source": [
    "Spark Session Creation\n"
   ]
  },
  {
   "cell_type": "code",
   "execution_count": 0,
   "metadata": {
    "application/vnd.databricks.v1+cell": {
     "cellMetadata": {
      "byteLimit": 2048000,
      "rowLimit": 10000
     },
     "inputWidgets": {},
     "nuid": "1a63673e-34f4-4dc8-93af-1e7ab7c624e3",
     "showTitle": false,
     "title": ""
    }
   },
   "outputs": [],
   "source": [
    "spark = SparkSession.builder.appName('dataeng_week10').getOrCreate()"
   ]
  },
  {
   "cell_type": "markdown",
   "metadata": {
    "application/vnd.databricks.v1+cell": {
     "cellMetadata": {},
     "inputWidgets": {},
     "nuid": "271e8890-7537-4b85-aae5-a0f8f69c6927",
     "showTitle": false,
     "title": ""
    }
   },
   "source": [
    "Configurations \n"
   ]
  },
  {
   "cell_type": "code",
   "execution_count": 0,
   "metadata": {
    "application/vnd.databricks.v1+cell": {
     "cellMetadata": {
      "byteLimit": 2048000,
      "rowLimit": 10000
     },
     "inputWidgets": {},
     "nuid": "ee4cb706-0ff3-495d-9c43-9e0dfee1af3c",
     "showTitle": false,
     "title": ""
    }
   },
   "outputs": [],
   "source": [
    "INPUT_FILE_LOCATION = \"/FileStore/tables/lacity_org_website_traffic.csv\"\n",
    "OUTPUT_FILE_LOCATION = \"/FileStore/tables/processed_lacity_org_website_traffic.csv\"\n",
    "FILE_TYPE = \"csv\" \n",
    "INFER_SCHEMA = \"false\"\n",
    "FIRST_ROW_IS_HEADER = \"true\"\n",
    "DELIMITER = \",\"\n"
   ]
  },
  {
   "cell_type": "code",
   "execution_count": 0,
   "metadata": {
    "application/vnd.databricks.v1+cell": {
     "cellMetadata": {
      "byteLimit": 2048000,
      "rowLimit": 10000
     },
     "inputWidgets": {},
     "nuid": "f5d503d0-e9dc-462c-b8f9-d0e65e823527",
     "showTitle": false,
     "title": ""
    }
   },
   "outputs": [],
   "source": [
    "# Read the data\n",
    "raw_data = spark.read.format(FILE_TYPE) \\\n",
    "  .option(\"inferSchema\", INFER_SCHEMA) \\\n",
    "  .option(\"header\", FIRST_ROW_IS_HEADER) \\\n",
    "  .option(\"sep\", DELIMITER) \\\n",
    "  .load(INPUT_FILE_LOCATION)"
   ]
  },
  {
   "cell_type": "markdown",
   "metadata": {
    "application/vnd.databricks.v1+cell": {
     "cellMetadata": {},
     "inputWidgets": {},
     "nuid": "f6dc29d4-1265-4c44-be21-ebbbbb829760",
     "showTitle": false,
     "title": ""
    }
   },
   "source": [
    "Data Transformation\n"
   ]
  },
  {
   "cell_type": "code",
   "execution_count": 0,
   "metadata": {
    "application/vnd.databricks.v1+cell": {
     "cellMetadata": {
      "byteLimit": 2048000,
      "rowLimit": 10000
     },
     "inputWidgets": {},
     "nuid": "466ee60d-bbe0-4d07-bfba-6168e061d865",
     "showTitle": false,
     "title": ""
    }
   },
   "outputs": [],
   "source": [
    "# Convert date to dates\n",
    "raw_data = raw_data.withColumn(\"timestamp\", col(\"Date\")).drop(\"Date\")\n",
    "raw_data = raw_data.withColumn(\"date\", to_date(col(\"timestamp\"))) \n",
    "raw_data = raw_data.withColumn(\"day\", dayofmonth(col(\"date\")))\n",
    "raw_data = raw_data.withColumn(\"month\", month(col(\"date\")))\n",
    "raw_data = raw_data.withColumn(\"year\", year(col(\"date\")))\n",
    "\n",
    "# Window transformations\n",
    "windowSpec = Window.partitionBy(\"Device Category\").orderBy(\"timestamp\")\n",
    "\n",
    "raw_data = raw_data.withColumn(\"row_num\", F.row_number().over(windowSpec)) \\\n",
    "  .withColumn(\"rank\", F.rank().over(windowSpec)) \\\n",
    "  .withColumn(\"dense_rank\", F.dense_rank().over(windowSpec)) \\\n",
    "  .withColumn(\"count\", F.count(\"*\").over(windowSpec)) \\\n",
    "  .withColumn(\"first\", F.first(\"# of Visitors\").over(windowSpec)) \\\n",
    "  .withColumn(\"last\", F.last(\"# of Visitors\").over(windowSpec)) \\\n",
    "  .withColumn(\"min\", F.min(\"# of Visitors\").over(windowSpec)) \\\n",
    "  .withColumn(\"max\", F.max(\"# of Visitors\").over(windowSpec)) \\\n",
    "  .withColumn(\"nth\", F.nth_value(\"# of Visitors\", 2).over(windowSpec)) \\\n",
    "  .withColumn(\"lag\", F.lag(\"# of Visitors\", 1).over(windowSpec)) \\\n",
    "  .withColumn(\"lead\", F.lead(\"# of Visitors\", 1).over(windowSpec)) \\\n",
    "  .withColumn(\"percent\", F.percent_rank().over(windowSpec)) \\\n",
    "  .withColumn(\"ntile\", F.ntile(2).over(windowSpec)) \\\n",
    "  .orderBy(\"Device Category\", \"timestamp\") \n",
    "\n",
    "# Cast columns to appropriate types\n",
    "raw_data = raw_data.withColumn(\"Sessions\", raw_data[\"Sessions\"].cast(\"int\"))\n",
    "raw_data = raw_data.withColumn(\"# of Visitors\", raw_data[\"# of Visitors\"].cast(\"int\"))  \n",
    "raw_data = raw_data.withColumn(\"Bounce Rate\", raw_data[\"Bounce Rate\"].cast(\"int\"))"
   ]
  },
  {
   "cell_type": "markdown",
   "metadata": {
    "application/vnd.databricks.v1+cell": {
     "cellMetadata": {},
     "inputWidgets": {},
     "nuid": "f4128ede-9150-4532-89b0-92553c1f1239",
     "showTitle": false,
     "title": ""
    }
   },
   "source": [
    "Sink the processed dataset to DBFS\n"
   ]
  },
  {
   "cell_type": "code",
   "execution_count": 0,
   "metadata": {
    "application/vnd.databricks.v1+cell": {
     "cellMetadata": {
      "byteLimit": 2048000,
      "rowLimit": 10000
     },
     "inputWidgets": {},
     "nuid": "f7961816-26e7-4abf-aac9-ab50dd8d46fb",
     "showTitle": false,
     "title": ""
    }
   },
   "outputs": [],
   "source": [
    "# Write output\n",
    "if os.path.exists(OUTPUT_FILE_LOCATION):\n",
    "  # Delete existing file\n",
    "  dbutils.fs.rm(OUTPUT_FILE_LOCATION, recurse=True) \n",
    "\n",
    "raw_data.write.format(FILE_TYPE) \\\n",
    "  .mode(\"overwrite\") \\\n",
    "  .option(\"header\", FIRST_ROW_IS_HEADER) \\\n",
    "  .option(\"sep\", DELIMITER) \\\n",
    "  .save(OUTPUT_FILE_LOCATION)"
   ]
  }
 ],
 "metadata": {
  "application/vnd.databricks.v1+notebook": {
   "dashboards": [],
   "language": "python",
   "notebookMetadata": {
    "pythonIndentUnit": 4
   },
   "notebookName": "datasink",
   "widgets": {}
  }
 },
 "nbformat": 4,
 "nbformat_minor": 0
}
